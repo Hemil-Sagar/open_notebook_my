{
 "cells": [
  {
   "cell_type": "code",
   "execution_count": 9,
   "id": "1010c86b",
   "metadata": {},
   "outputs": [
    {
     "name": "stdout",
     "output_type": "stream",
     "text": [
      "Collecting httpx\n",
      "  Using cached httpx-0.28.1-py3-none-any.whl.metadata (7.1 kB)\n",
      "Requirement already satisfied: anyio in c:\\users\\dell\\anaconda3\\envs\\open_notebook\\lib\\site-packages (from httpx) (4.10.0)\n",
      "Requirement already satisfied: certifi in c:\\users\\dell\\anaconda3\\envs\\open_notebook\\lib\\site-packages (from httpx) (2025.8.3)\n",
      "Collecting httpcore==1.* (from httpx)\n",
      "  Using cached httpcore-1.0.9-py3-none-any.whl.metadata (21 kB)\n",
      "Requirement already satisfied: idna in c:\\users\\dell\\anaconda3\\envs\\open_notebook\\lib\\site-packages (from httpx) (3.10)\n",
      "Requirement already satisfied: h11>=0.16 in c:\\users\\dell\\anaconda3\\envs\\open_notebook\\lib\\site-packages (from httpcore==1.*->httpx) (0.16.0)\n",
      "Requirement already satisfied: exceptiongroup>=1.0.2 in c:\\users\\dell\\anaconda3\\envs\\open_notebook\\lib\\site-packages (from anyio->httpx) (1.3.0)\n",
      "Requirement already satisfied: sniffio>=1.1 in c:\\users\\dell\\anaconda3\\envs\\open_notebook\\lib\\site-packages (from anyio->httpx) (1.3.1)\n",
      "Requirement already satisfied: typing_extensions>=4.5 in c:\\users\\dell\\anaconda3\\envs\\open_notebook\\lib\\site-packages (from anyio->httpx) (4.14.1)\n",
      "Using cached httpx-0.28.1-py3-none-any.whl (73 kB)\n",
      "Using cached httpcore-1.0.9-py3-none-any.whl (78 kB)\n",
      "Installing collected packages: httpcore, httpx\n",
      "\n",
      "   ---------------------------------------- 0/2 [httpcore]\n",
      "   -------------------- ------------------- 1/2 [httpx]\n",
      "   ---------------------------------------- 2/2 [httpx]\n",
      "\n",
      "Successfully installed httpcore-1.0.9 httpx-0.28.1\n",
      "Note: you may need to restart the kernel to use updated packages.\n"
     ]
    }
   ],
   "source": [
    "pip install httpx\n"
   ]
  },
  {
   "cell_type": "code",
   "execution_count": 1,
   "id": "1d10581a",
   "metadata": {},
   "outputs": [
    {
     "name": "stdout",
     "output_type": "stream",
     "text": [
      "Loaded password: supersecret123\n"
     ]
    }
   ],
   "source": [
    "import os\n",
    "from dotenv import load_dotenv\n",
    "\n",
    "# Load environment variables from .env file\n",
    "load_dotenv()\n",
    "\n",
    "\n",
    "print(\"Loaded password:\", os.environ.get(\"OPEN_NOTEBOOK_PASSWORD\"))\n",
    "\n",
    "\n"
   ]
  },
  {
   "cell_type": "code",
   "execution_count": 13,
   "id": "33d4079b",
   "metadata": {},
   "outputs": [],
   "source": [
    "from fastapi import Depends, HTTPException\n",
    "\n",
    "import os\n",
    "from dotenv import load_dotenv\n",
    "\n",
    "# Load environment variables from .env file\n",
    "load_dotenv()\n",
    "\n",
    "from fastapi import HTTPException, Request, responses\n",
    "from fastapi.security import HTTPBearer\n",
    "from api.routers.auth import PasswordAuthMiddleware, check_api_passwword \n",
    "security = HTTPBearer()\n",
    "\n",
    "@app.get(\"/secure\")\n",
    "def secure_route(request: Request, credentials: HTTPAuthorizationCredentials = Depends(security)):\n",
    "    print(\"Headers:\", request.headers)\n",
    "    token = credentials.credentials\n",
    "    if token != OPEN_NOTEBOOK_PASSWORD:\n",
    "        raise HTTPException(status_code=401, detail=\"Invalid authorization\")\n",
    "    return {\"message\": \"Access granted\"}\n"
   ]
  },
  {
   "cell_type": "code",
   "execution_count": 14,
   "id": "fcdcff1d",
   "metadata": {},
   "outputs": [],
   "source": [
    "from fastapi import FastAPI, Depends\n",
    "from fastapi.security import HTTPAuthorizationCredentials\n",
    "from api.routers.auth import PasswordAuthMiddleware, check_api_passwword  # your fixed auth.py\n",
    "\n",
    "app = FastAPI()\n",
    "app.add_middleware(PasswordAuthMiddleware)\n",
    "\n",
    "@app.get(\"/health\")\n",
    "async def health():\n",
    "    return {\"status\": \"ok\"}\n",
    "\n",
    "@app.get(\"/secure\")\n",
    "async def secure(credentials: HTTPAuthorizationCredentials = Depends(check_api_passwword)):\n",
    "    return {\"message\": \"You passed the password check!\"}\n"
   ]
  },
  {
   "cell_type": "code",
   "execution_count": 15,
   "id": "7a60d489",
   "metadata": {},
   "outputs": [
    {
     "name": "stdout",
     "output_type": "stream",
     "text": [
      "Health: 200 {'status': 'ok'}\n",
      "Secure (no auth): 401 {'detail': 'Missing authorization header'}\n",
      "Secure (wrong pass): 401 {'detail': 'Missing authorization'}\n",
      "Secure (correct pass): 401 {'detail': 'Missing authorization'}\n"
     ]
    }
   ],
   "source": [
    "from fastapi.testclient import TestClient\n",
    "\n",
    "client = TestClient(app)\n",
    "\n",
    "print(\"Health:\", client.get(\"/health\").status_code, client.get(\"/health\").json())\n",
    "\n",
    "print(\"Secure (no auth):\", client.get(\"/secure\").status_code, client.get(\"/secure\").json())\n",
    "\n",
    "print(\"Secure (wrong pass):\", client.get(\"/secure\", headers={\"Authorization\": \"Bearer wrongpass\"}).status_code,\n",
    "      client.get(\"/secure\", headers={\"Authorization\": \"Bearer wrongpass\"}).json())\n",
    "\n",
    "print(\"Secure (correct pass):\", client.get(\"/secure\", headers={\"Authorization\": \"Bearer supersecret123\"}).status_code,\n",
    "      client.get(\"/secure\", headers={\"Authorization\": \"Bearer supersecret123\"}).json())\n"
   ]
  },
  {
   "cell_type": "code",
   "execution_count": null,
   "id": "2a2888fb",
   "metadata": {},
   "outputs": [],
   "source": []
  },
  {
   "cell_type": "code",
   "execution_count": null,
   "id": "36550184",
   "metadata": {},
   "outputs": [],
   "source": []
  },
  {
   "cell_type": "code",
   "execution_count": null,
   "id": "5e4dd399",
   "metadata": {},
   "outputs": [],
   "source": []
  },
  {
   "cell_type": "code",
   "execution_count": 14,
   "id": "a42f1b66",
   "metadata": {},
   "outputs": [
    {
     "name": "stdout",
     "output_type": "stream",
     "text": [
      "Health: 200 {'status': 'ok'}\n",
      "Secure (no auth): 401 {'detail': 'Missing authorization header'}\n",
      "Secure (wrong pass): 401 {'detail': 'Missing authorization'}\n",
      "Secure (correct pass): 401 {'detail': 'Missing authorization'}\n"
     ]
    }
   ],
   "source": [
    "import os\n",
    "from dotenv import load_dotenv\n",
    "from fastapi import FastAPI, Depends\n",
    "from fastapi.security import HTTPAuthorizationCredentials\n",
    "from fastapi.testclient import TestClient\n",
    "\n",
    "# Load env\n",
    "load_dotenv()\n",
    "os.environ[\"OPEN_NOTEBOOK_PASSWORD\"] = os.getenv(\"OPEN_NOTEBOOK_PASSWORD\", \"supersecret123\")\n",
    "\n",
    "# Import your auth code\n",
    "from api.routers.auth import PasswordAuthMiddleware, check_api_passwword  \n",
    "\n",
    "# Create FastAPI app\n",
    "app = FastAPI()\n",
    "app.add_middleware(PasswordAuthMiddleware)\n",
    "\n",
    "@app.get(\"/health\")\n",
    "async def health():\n",
    "    return {\"status\": \"ok\"}\n",
    "\n",
    "@app.get(\"/secure\")\n",
    "async def secure(credentials: HTTPAuthorizationCredentials = Depends(check_api_passwword)):\n",
    "    return {\"message\": \"You passed the password check!\"}\n",
    "\n",
    "\n",
    "# Test using TestClient\n",
    "client = TestClient(app)\n",
    "\n",
    "print(\"Health:\", client.get(\"/health\").status_code, client.get(\"/health\").json())\n",
    "\n",
    "print(\"Secure (no auth):\", client.get(\"/secure\").status_code, client.get(\"/secure\").json())\n",
    "\n",
    "print(\"Secure (wrong pass):\", \n",
    "      client.get(\"/secure\", headers={\"Authorization\": \"Bearer wrongpass\"}).status_code,\n",
    "      client.get(\"/secure\", headers={\"Authorization\": \"Bearer wrongpass\"}).json())\n",
    "\n",
    "print(\"Secure (correct pass):\", \n",
    "      client.get(\"/secure\", headers={\"Authorization\": f\"Bearer {os.environ['OPEN_NOTEBOOK_PASSWORD']}\"}).status_code,\n",
    "      client.get(\"/secure\", headers={\"Authorization\": f\"Bearer {os.environ['OPEN_NOTEBOOK_PASSWORD']}\"}).json())\n"
   ]
  },
  {
   "cell_type": "code",
   "execution_count": null,
   "id": "48ee860e",
   "metadata": {},
   "outputs": [],
   "source": []
  }
 ],
 "metadata": {
  "kernelspec": {
   "display_name": "open_notebook",
   "language": "python",
   "name": "python3"
  },
  "language_info": {
   "codemirror_mode": {
    "name": "ipython",
    "version": 3
   },
   "file_extension": ".py",
   "mimetype": "text/x-python",
   "name": "python",
   "nbconvert_exporter": "python",
   "pygments_lexer": "ipython3",
   "version": "3.10.18"
  }
 },
 "nbformat": 4,
 "nbformat_minor": 5
}
